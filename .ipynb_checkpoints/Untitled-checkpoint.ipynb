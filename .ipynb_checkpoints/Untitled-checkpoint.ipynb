{
 "cells": [
  {
   "cell_type": "code",
   "execution_count": 6,
   "metadata": {},
   "outputs": [
    {
     "data": {
      "image/png": "[encoded data removed]",
      "text/plain": [
       "<Figure size 432x288 with 1 Axes>"
      ]
     },
     "metadata": {
      "needs_background": "light"
     },
     "output_type": "display_data"
    }
   ],
   "source": [
    "import pandas as pd\n",
    "\"\"\"\n",
    "acc = [0.983343319352906, 0.9892163910855499, 0.9984423676012462, 0.9973640067098011, 0.9980829139707644, 0.9965252815720106]\n",
    "loss = [0.17390129352903574, 0.07028525318487627, 0.013504234071763339, 0.027688137577940943, 0.029714459485034195, 0.04293059092692534]\n",
    "test_acc = [0.041916167700362064, 0.25883762732174953, 0.9616536848412223, 0.9646494907130018, 0.9496704613541043, 0.7405632115128228]\n",
    "test_loss = [10.386379802155638, 8.519040726380252, 0.12851863499806715, 0.145453022028877, 0.15171362822664033, 1.8823540517228887]\n",
    "\n",
    "acc_carved = [0.9933333333333333, 0.996, 0.9773333333333334, 1.0, 1.0, 0.9813333333333333]\n",
    "loss_carved = [0.020183467297814787, 0.009739243560936302, 0.06035742611308039, 0.0015407822888034086, 0.0001857596618453196, 0.0407963477531448]\n",
    "test_acc_carved = [0.013333333532015483, 0.2933333373069763, 0.9133333333333333, 0.9933333333333333, 0.8400000031789144, 0.8]\n",
    "test_loss_carved = [9.578503246307372, 5.970804726481438, 0.25482609326640765, 0.01870014223580559, 0.5967727851867676, 1.2759403928120931]\n",
    "\n",
    "\"\"\"\n",
    "\n",
    "\n",
    "\n",
    "\"\"\"\n",
    "df = pd.DataFrame()\n",
    "df['Acc_linear'] = acc\n",
    "df['Acc_carved'] = acc_carved\n",
    "df['Acc_test_linear'] = test_acc\n",
    "df['Acc_test_carved'] = test_acc_carved\n",
    "\n",
    "boxplot = df.boxplot()\n",
    "\"\"\"\n",
    "\n",
    "df = pd.DataFrame()\n",
    "\n",
    "df['Loss_linear'] = loss\n",
    "df['Loss_carved'] = loss_carved\n",
    "df['Loss_test_linear'] = test_loss\n",
    "df['Loss_test_carved'] = test_loss_carved\n",
    "\n",
    "\n",
    "boxplot = df.boxplot()\n"
   ]
  },
  {
   "cell_type": "code",
   "execution_count": null,
   "metadata": {},
   "outputs": [],
   "source": []
  },
  {
   "cell_type": "code",
   "execution_count": null,
   "metadata": {},
   "outputs": [],
   "source": []
  }
 ],
 "metadata": {
  "kernelspec": {
   "display_name": "Python 3",
   "language": "python",
   "name": "python3"
  },
  "language_info": {
   "codemirror_mode": {
    "name": "ipython",
    "version": 3
   },
   "file_extension": ".py",
   "mimetype": "text/x-python",
   "name": "python",
   "nbconvert_exporter": "python",
   "pygments_lexer": "ipython3",
   "version": "3.6.8"
  }
 },
 "nbformat": 4,
 "nbformat_minor": 2
}
